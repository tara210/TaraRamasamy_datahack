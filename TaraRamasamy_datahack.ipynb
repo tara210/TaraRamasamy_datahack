{
  "cells": [
    {
      "cell_type": "code",
      "execution_count": 1,
      "metadata": {
        "id": "KKl3ojEygb7H",
        "colab": {
          "base_uri": "https://localhost:8080/"
        },
        "outputId": "776f071a-530d-4575-962c-87f201698f91"
      },
      "outputs": [
        {
          "output_type": "stream",
          "name": "stdout",
          "text": [
            "   respondent_id  xyz_concern  xyz_knowledge  behavioral_antiviral_meds  \\\n",
            "0              0          1.0            0.0                        0.0   \n",
            "1              1          3.0            2.0                        0.0   \n",
            "2              2          1.0            1.0                        0.0   \n",
            "3              3          1.0            1.0                        0.0   \n",
            "4              4          2.0            1.0                        0.0   \n",
            "\n",
            "   behavioral_avoidance  behavioral_face_mask  behavioral_wash_hands  \\\n",
            "0                   0.0                   0.0                    0.0   \n",
            "1                   1.0                   0.0                    1.0   \n",
            "2                   1.0                   0.0                    0.0   \n",
            "3                   1.0                   0.0                    1.0   \n",
            "4                   1.0                   0.0                    1.0   \n",
            "\n",
            "   behavioral_large_gatherings  behavioral_outside_home  \\\n",
            "0                          0.0                      1.0   \n",
            "1                          0.0                      1.0   \n",
            "2                          0.0                      0.0   \n",
            "3                          1.0                      0.0   \n",
            "4                          1.0                      0.0   \n",
            "\n",
            "   behavioral_touch_face  ...             income_poverty  marital_status  \\\n",
            "0                    1.0  ...              Below Poverty     Not Married   \n",
            "1                    1.0  ...              Below Poverty     Not Married   \n",
            "2                    0.0  ...  <= $75,000, Above Poverty     Not Married   \n",
            "3                    0.0  ...              Below Poverty     Not Married   \n",
            "4                    1.0  ...  <= $75,000, Above Poverty         Married   \n",
            "\n",
            "   rent_or_own   employment_status  hhs_geo_region                census_msa  \\\n",
            "0          Own  Not in Labor Force        oxchjgsf                   Non-MSA   \n",
            "1         Rent            Employed        bhuqouqj  MSA, Not Principle  City   \n",
            "2          Own            Employed        qufhixun  MSA, Not Principle  City   \n",
            "3         Rent  Not in Labor Force        lrircsnp       MSA, Principle City   \n",
            "4          Own            Employed        qufhixun  MSA, Not Principle  City   \n",
            "\n",
            "   household_adults  household_children  employment_industry  \\\n",
            "0               0.0                 0.0                  NaN   \n",
            "1               0.0                 0.0             pxcmvdjn   \n",
            "2               2.0                 0.0             rucpziij   \n",
            "3               0.0                 0.0                  NaN   \n",
            "4               1.0                 0.0             wxleyezf   \n",
            "\n",
            "   employment_occupation  \n",
            "0                    NaN  \n",
            "1               xgwztkwe  \n",
            "2               xtkaffoo  \n",
            "3                    NaN  \n",
            "4               emcorrxb  \n",
            "\n",
            "[5 rows x 36 columns]\n",
            "   respondent_id  xyz_vaccine  seasonal_vaccine\n",
            "0              0            0                 0\n",
            "1              1            0                 1\n",
            "2              2            0                 0\n",
            "3              3            0                 1\n",
            "4              4            0                 0\n",
            "   respondent_id  xyz_concern  xyz_knowledge  behavioral_antiviral_meds  \\\n",
            "0          26707          2.0            2.0                        0.0   \n",
            "1          26708          1.0            1.0                        0.0   \n",
            "2          26709          2.0            2.0                        0.0   \n",
            "3          26710          1.0            1.0                        0.0   \n",
            "4          26711          3.0            1.0                        1.0   \n",
            "\n",
            "   behavioral_avoidance  behavioral_face_mask  behavioral_wash_hands  \\\n",
            "0                   1.0                   0.0                    1.0   \n",
            "1                   0.0                   0.0                    0.0   \n",
            "2                   0.0                   1.0                    1.0   \n",
            "3                   0.0                   0.0                    0.0   \n",
            "4                   1.0                   0.0                    1.0   \n",
            "\n",
            "   behavioral_large_gatherings  behavioral_outside_home  \\\n",
            "0                          1.0                      0.0   \n",
            "1                          0.0                      0.0   \n",
            "2                          1.0                      1.0   \n",
            "3                          0.0                      0.0   \n",
            "4                          1.0                      1.0   \n",
            "\n",
            "   behavioral_touch_face  ...             income_poverty  marital_status  \\\n",
            "0                    1.0  ...                  > $75,000     Not Married   \n",
            "1                    0.0  ...              Below Poverty     Not Married   \n",
            "2                    1.0  ...                  > $75,000         Married   \n",
            "3                    0.0  ...  <= $75,000, Above Poverty         Married   \n",
            "4                    1.0  ...  <= $75,000, Above Poverty     Not Married   \n",
            "\n",
            "   rent_or_own   employment_status  hhs_geo_region                census_msa  \\\n",
            "0         Rent            Employed        mlyzmhmf  MSA, Not Principle  City   \n",
            "1         Rent            Employed        bhuqouqj                   Non-MSA   \n",
            "2          Own            Employed        lrircsnp                   Non-MSA   \n",
            "3          Own  Not in Labor Force        lrircsnp  MSA, Not Principle  City   \n",
            "4          Own            Employed        lzgpxyit                   Non-MSA   \n",
            "\n",
            "   household_adults  household_children  employment_industry  \\\n",
            "0               1.0                 0.0             atmlpfrs   \n",
            "1               3.0                 0.0             atmlpfrs   \n",
            "2               1.0                 0.0             nduyfdeo   \n",
            "3               1.0                 0.0                  NaN   \n",
            "4               0.0                 1.0             fcxhlnwr   \n",
            "\n",
            "   employment_occupation  \n",
            "0               hfxkjkmi  \n",
            "1               xqwwgdyp  \n",
            "2               pvmttkik  \n",
            "3                    NaN  \n",
            "4               mxkfnird  \n",
            "\n",
            "[5 rows x 36 columns]\n"
          ]
        }
      ],
      "source": [
        "import pandas as pd\n",
        "\n",
        "# Load datasets\n",
        "train_features = pd.read_csv('training_set_features.csv')\n",
        "train_labels = pd.read_csv('training_set_labels.csv')\n",
        "test_features = pd.read_csv('test_set_features.csv')\n",
        "\n",
        "# Inspect the datasets\n",
        "print(train_features.head())\n",
        "print(train_labels.head())\n",
        "print(test_features.head())\n",
        "\n",
        "\n"
      ]
    },
    {
      "cell_type": "code",
      "source": [
        "from sklearn.model_selection import train_test_split\n",
        "from sklearn.preprocessing import StandardScaler, OneHotEncoder\n",
        "from sklearn.compose import ColumnTransformer\n",
        "from sklearn.pipeline import Pipeline\n",
        "from sklearn.impute import SimpleImputer\n",
        "\n",
        "# Identify feature columns\n",
        "feature_cols = train_features.columns.difference(['respondent_id'])\n",
        "target_cols = ['xyz_vaccine', 'seasonal_vaccine']\n",
        "\n",
        "# Separate features and target from training data\n",
        "X = train_features[feature_cols]\n",
        "y = train_labels[target_cols]\n",
        "\n",
        "# Split into training and validation sets\n",
        "X_train, X_val, y_train, y_val = train_test_split(X, y, test_size=0.2, stratify=y, random_state=42)\n",
        "\n",
        "# Define preprocessing pipeline\n",
        "numeric_features = X.select_dtypes(include=['int64', 'float64']).columns\n",
        "categorical_features = X.select_dtypes(include=['object']).columns\n",
        "\n",
        "numeric_transformer = Pipeline(steps=[\n",
        "    ('imputer', SimpleImputer(strategy='median')),\n",
        "    ('scaler', StandardScaler())])\n",
        "\n",
        "categorical_transformer = Pipeline(steps=[\n",
        "    ('imputer', SimpleImputer(strategy='most_frequent')),\n",
        "    ('onehot', OneHotEncoder(handle_unknown='ignore'))])\n",
        "\n",
        "preprocessor = ColumnTransformer(\n",
        "    transformers=[\n",
        "        ('num', numeric_transformer, numeric_features),\n",
        "        ('cat', categorical_transformer, categorical_features)])\n"
      ],
      "metadata": {
        "id": "oKJTTsdhO6pf"
      },
      "execution_count": 2,
      "outputs": []
    },
    {
      "cell_type": "code",
      "execution_count": 3,
      "metadata": {
        "colab": {
          "base_uri": "https://localhost:8080/",
          "height": 290
        },
        "id": "D3Nl3hn6hHZI",
        "outputId": "a828d76a-9a77-4e39-d69f-7c759ed489fa"
      },
      "outputs": [
        {
          "output_type": "execute_result",
          "data": {
            "text/plain": [
              "Pipeline(steps=[('preprocessor',\n",
              "                 ColumnTransformer(transformers=[('num',\n",
              "                                                  Pipeline(steps=[('imputer',\n",
              "                                                                   SimpleImputer(strategy='median')),\n",
              "                                                                  ('scaler',\n",
              "                                                                   StandardScaler())]),\n",
              "                                                  Index(['behavioral_antiviral_meds', 'behavioral_avoidance',\n",
              "       'behavioral_face_mask', 'behavioral_large_gatherings',\n",
              "       'behavioral_outside_home', 'behavioral_touch_face',\n",
              "       'behavioral_wash_hands', 'ch...\n",
              "                                                                  ('onehot',\n",
              "                                                                   OneHotEncoder(handle_unknown='ignore'))]),\n",
              "                                                  Index(['age_group', 'census_msa', 'education', 'employment_industry',\n",
              "       'employment_occupation', 'employment_status', 'hhs_geo_region',\n",
              "       'income_poverty', 'marital_status', 'race', 'rent_or_own', 'sex'],\n",
              "      dtype='object'))])),\n",
              "                ('classifier',\n",
              "                 MultiOutputClassifier(estimator=RandomForestClassifier(random_state=42)))])"
            ],
            "text/html": [
              "<style>#sk-container-id-1 {color: black;background-color: white;}#sk-container-id-1 pre{padding: 0;}#sk-container-id-1 div.sk-toggleable {background-color: white;}#sk-container-id-1 label.sk-toggleable__label {cursor: pointer;display: block;width: 100%;margin-bottom: 0;padding: 0.3em;box-sizing: border-box;text-align: center;}#sk-container-id-1 label.sk-toggleable__label-arrow:before {content: \"▸\";float: left;margin-right: 0.25em;color: #696969;}#sk-container-id-1 label.sk-toggleable__label-arrow:hover:before {color: black;}#sk-container-id-1 div.sk-estimator:hover label.sk-toggleable__label-arrow:before {color: black;}#sk-container-id-1 div.sk-toggleable__content {max-height: 0;max-width: 0;overflow: hidden;text-align: left;background-color: #f0f8ff;}#sk-container-id-1 div.sk-toggleable__content pre {margin: 0.2em;color: black;border-radius: 0.25em;background-color: #f0f8ff;}#sk-container-id-1 input.sk-toggleable__control:checked~div.sk-toggleable__content {max-height: 200px;max-width: 100%;overflow: auto;}#sk-container-id-1 input.sk-toggleable__control:checked~label.sk-toggleable__label-arrow:before {content: \"▾\";}#sk-container-id-1 div.sk-estimator input.sk-toggleable__control:checked~label.sk-toggleable__label {background-color: #d4ebff;}#sk-container-id-1 div.sk-label input.sk-toggleable__control:checked~label.sk-toggleable__label {background-color: #d4ebff;}#sk-container-id-1 input.sk-hidden--visually {border: 0;clip: rect(1px 1px 1px 1px);clip: rect(1px, 1px, 1px, 1px);height: 1px;margin: -1px;overflow: hidden;padding: 0;position: absolute;width: 1px;}#sk-container-id-1 div.sk-estimator {font-family: monospace;background-color: #f0f8ff;border: 1px dotted black;border-radius: 0.25em;box-sizing: border-box;margin-bottom: 0.5em;}#sk-container-id-1 div.sk-estimator:hover {background-color: #d4ebff;}#sk-container-id-1 div.sk-parallel-item::after {content: \"\";width: 100%;border-bottom: 1px solid gray;flex-grow: 1;}#sk-container-id-1 div.sk-label:hover label.sk-toggleable__label {background-color: #d4ebff;}#sk-container-id-1 div.sk-serial::before {content: \"\";position: absolute;border-left: 1px solid gray;box-sizing: border-box;top: 0;bottom: 0;left: 50%;z-index: 0;}#sk-container-id-1 div.sk-serial {display: flex;flex-direction: column;align-items: center;background-color: white;padding-right: 0.2em;padding-left: 0.2em;position: relative;}#sk-container-id-1 div.sk-item {position: relative;z-index: 1;}#sk-container-id-1 div.sk-parallel {display: flex;align-items: stretch;justify-content: center;background-color: white;position: relative;}#sk-container-id-1 div.sk-item::before, #sk-container-id-1 div.sk-parallel-item::before {content: \"\";position: absolute;border-left: 1px solid gray;box-sizing: border-box;top: 0;bottom: 0;left: 50%;z-index: -1;}#sk-container-id-1 div.sk-parallel-item {display: flex;flex-direction: column;z-index: 1;position: relative;background-color: white;}#sk-container-id-1 div.sk-parallel-item:first-child::after {align-self: flex-end;width: 50%;}#sk-container-id-1 div.sk-parallel-item:last-child::after {align-self: flex-start;width: 50%;}#sk-container-id-1 div.sk-parallel-item:only-child::after {width: 0;}#sk-container-id-1 div.sk-dashed-wrapped {border: 1px dashed gray;margin: 0 0.4em 0.5em 0.4em;box-sizing: border-box;padding-bottom: 0.4em;background-color: white;}#sk-container-id-1 div.sk-label label {font-family: monospace;font-weight: bold;display: inline-block;line-height: 1.2em;}#sk-container-id-1 div.sk-label-container {text-align: center;}#sk-container-id-1 div.sk-container {/* jupyter's `normalize.less` sets `[hidden] { display: none; }` but bootstrap.min.css set `[hidden] { display: none !important; }` so we also need the `!important` here to be able to override the default hidden behavior on the sphinx rendered scikit-learn.org. See: https://github.com/scikit-learn/scikit-learn/issues/21755 */display: inline-block !important;position: relative;}#sk-container-id-1 div.sk-text-repr-fallback {display: none;}</style><div id=\"sk-container-id-1\" class=\"sk-top-container\"><div class=\"sk-text-repr-fallback\"><pre>Pipeline(steps=[(&#x27;preprocessor&#x27;,\n",
              "                 ColumnTransformer(transformers=[(&#x27;num&#x27;,\n",
              "                                                  Pipeline(steps=[(&#x27;imputer&#x27;,\n",
              "                                                                   SimpleImputer(strategy=&#x27;median&#x27;)),\n",
              "                                                                  (&#x27;scaler&#x27;,\n",
              "                                                                   StandardScaler())]),\n",
              "                                                  Index([&#x27;behavioral_antiviral_meds&#x27;, &#x27;behavioral_avoidance&#x27;,\n",
              "       &#x27;behavioral_face_mask&#x27;, &#x27;behavioral_large_gatherings&#x27;,\n",
              "       &#x27;behavioral_outside_home&#x27;, &#x27;behavioral_touch_face&#x27;,\n",
              "       &#x27;behavioral_wash_hands&#x27;, &#x27;ch...\n",
              "                                                                  (&#x27;onehot&#x27;,\n",
              "                                                                   OneHotEncoder(handle_unknown=&#x27;ignore&#x27;))]),\n",
              "                                                  Index([&#x27;age_group&#x27;, &#x27;census_msa&#x27;, &#x27;education&#x27;, &#x27;employment_industry&#x27;,\n",
              "       &#x27;employment_occupation&#x27;, &#x27;employment_status&#x27;, &#x27;hhs_geo_region&#x27;,\n",
              "       &#x27;income_poverty&#x27;, &#x27;marital_status&#x27;, &#x27;race&#x27;, &#x27;rent_or_own&#x27;, &#x27;sex&#x27;],\n",
              "      dtype=&#x27;object&#x27;))])),\n",
              "                (&#x27;classifier&#x27;,\n",
              "                 MultiOutputClassifier(estimator=RandomForestClassifier(random_state=42)))])</pre><b>In a Jupyter environment, please rerun this cell to show the HTML representation or trust the notebook. <br />On GitHub, the HTML representation is unable to render, please try loading this page with nbviewer.org.</b></div><div class=\"sk-container\" hidden><div class=\"sk-item sk-dashed-wrapped\"><div class=\"sk-label-container\"><div class=\"sk-label sk-toggleable\"><input class=\"sk-toggleable__control sk-hidden--visually\" id=\"sk-estimator-id-1\" type=\"checkbox\" ><label for=\"sk-estimator-id-1\" class=\"sk-toggleable__label sk-toggleable__label-arrow\">Pipeline</label><div class=\"sk-toggleable__content\"><pre>Pipeline(steps=[(&#x27;preprocessor&#x27;,\n",
              "                 ColumnTransformer(transformers=[(&#x27;num&#x27;,\n",
              "                                                  Pipeline(steps=[(&#x27;imputer&#x27;,\n",
              "                                                                   SimpleImputer(strategy=&#x27;median&#x27;)),\n",
              "                                                                  (&#x27;scaler&#x27;,\n",
              "                                                                   StandardScaler())]),\n",
              "                                                  Index([&#x27;behavioral_antiviral_meds&#x27;, &#x27;behavioral_avoidance&#x27;,\n",
              "       &#x27;behavioral_face_mask&#x27;, &#x27;behavioral_large_gatherings&#x27;,\n",
              "       &#x27;behavioral_outside_home&#x27;, &#x27;behavioral_touch_face&#x27;,\n",
              "       &#x27;behavioral_wash_hands&#x27;, &#x27;ch...\n",
              "                                                                  (&#x27;onehot&#x27;,\n",
              "                                                                   OneHotEncoder(handle_unknown=&#x27;ignore&#x27;))]),\n",
              "                                                  Index([&#x27;age_group&#x27;, &#x27;census_msa&#x27;, &#x27;education&#x27;, &#x27;employment_industry&#x27;,\n",
              "       &#x27;employment_occupation&#x27;, &#x27;employment_status&#x27;, &#x27;hhs_geo_region&#x27;,\n",
              "       &#x27;income_poverty&#x27;, &#x27;marital_status&#x27;, &#x27;race&#x27;, &#x27;rent_or_own&#x27;, &#x27;sex&#x27;],\n",
              "      dtype=&#x27;object&#x27;))])),\n",
              "                (&#x27;classifier&#x27;,\n",
              "                 MultiOutputClassifier(estimator=RandomForestClassifier(random_state=42)))])</pre></div></div></div><div class=\"sk-serial\"><div class=\"sk-item sk-dashed-wrapped\"><div class=\"sk-label-container\"><div class=\"sk-label sk-toggleable\"><input class=\"sk-toggleable__control sk-hidden--visually\" id=\"sk-estimator-id-2\" type=\"checkbox\" ><label for=\"sk-estimator-id-2\" class=\"sk-toggleable__label sk-toggleable__label-arrow\">preprocessor: ColumnTransformer</label><div class=\"sk-toggleable__content\"><pre>ColumnTransformer(transformers=[(&#x27;num&#x27;,\n",
              "                                 Pipeline(steps=[(&#x27;imputer&#x27;,\n",
              "                                                  SimpleImputer(strategy=&#x27;median&#x27;)),\n",
              "                                                 (&#x27;scaler&#x27;, StandardScaler())]),\n",
              "                                 Index([&#x27;behavioral_antiviral_meds&#x27;, &#x27;behavioral_avoidance&#x27;,\n",
              "       &#x27;behavioral_face_mask&#x27;, &#x27;behavioral_large_gatherings&#x27;,\n",
              "       &#x27;behavioral_outside_home&#x27;, &#x27;behavioral_touch_face&#x27;,\n",
              "       &#x27;behavioral_wash_hands&#x27;, &#x27;child_under_6_months&#x27;,\n",
              "       &#x27;chronic_med...\n",
              "      dtype=&#x27;object&#x27;)),\n",
              "                                (&#x27;cat&#x27;,\n",
              "                                 Pipeline(steps=[(&#x27;imputer&#x27;,\n",
              "                                                  SimpleImputer(strategy=&#x27;most_frequent&#x27;)),\n",
              "                                                 (&#x27;onehot&#x27;,\n",
              "                                                  OneHotEncoder(handle_unknown=&#x27;ignore&#x27;))]),\n",
              "                                 Index([&#x27;age_group&#x27;, &#x27;census_msa&#x27;, &#x27;education&#x27;, &#x27;employment_industry&#x27;,\n",
              "       &#x27;employment_occupation&#x27;, &#x27;employment_status&#x27;, &#x27;hhs_geo_region&#x27;,\n",
              "       &#x27;income_poverty&#x27;, &#x27;marital_status&#x27;, &#x27;race&#x27;, &#x27;rent_or_own&#x27;, &#x27;sex&#x27;],\n",
              "      dtype=&#x27;object&#x27;))])</pre></div></div></div><div class=\"sk-parallel\"><div class=\"sk-parallel-item\"><div class=\"sk-item\"><div class=\"sk-label-container\"><div class=\"sk-label sk-toggleable\"><input class=\"sk-toggleable__control sk-hidden--visually\" id=\"sk-estimator-id-3\" type=\"checkbox\" ><label for=\"sk-estimator-id-3\" class=\"sk-toggleable__label sk-toggleable__label-arrow\">num</label><div class=\"sk-toggleable__content\"><pre>Index([&#x27;behavioral_antiviral_meds&#x27;, &#x27;behavioral_avoidance&#x27;,\n",
              "       &#x27;behavioral_face_mask&#x27;, &#x27;behavioral_large_gatherings&#x27;,\n",
              "       &#x27;behavioral_outside_home&#x27;, &#x27;behavioral_touch_face&#x27;,\n",
              "       &#x27;behavioral_wash_hands&#x27;, &#x27;child_under_6_months&#x27;,\n",
              "       &#x27;chronic_med_condition&#x27;, &#x27;doctor_recc_seasonal&#x27;, &#x27;doctor_recc_xyz&#x27;,\n",
              "       &#x27;health_insurance&#x27;, &#x27;health_worker&#x27;, &#x27;household_adults&#x27;,\n",
              "       &#x27;household_children&#x27;, &#x27;opinion_seas_risk&#x27;,\n",
              "       &#x27;opinion_seas_sick_from_vacc&#x27;, &#x27;opinion_seas_vacc_effective&#x27;,\n",
              "       &#x27;opinion_xyz_risk&#x27;, &#x27;opinion_xyz_sick_from_vacc&#x27;,\n",
              "       &#x27;opinion_xyz_vacc_effective&#x27;, &#x27;xyz_concern&#x27;, &#x27;xyz_knowledge&#x27;],\n",
              "      dtype=&#x27;object&#x27;)</pre></div></div></div><div class=\"sk-serial\"><div class=\"sk-item\"><div class=\"sk-serial\"><div class=\"sk-item\"><div class=\"sk-estimator sk-toggleable\"><input class=\"sk-toggleable__control sk-hidden--visually\" id=\"sk-estimator-id-4\" type=\"checkbox\" ><label for=\"sk-estimator-id-4\" class=\"sk-toggleable__label sk-toggleable__label-arrow\">SimpleImputer</label><div class=\"sk-toggleable__content\"><pre>SimpleImputer(strategy=&#x27;median&#x27;)</pre></div></div></div><div class=\"sk-item\"><div class=\"sk-estimator sk-toggleable\"><input class=\"sk-toggleable__control sk-hidden--visually\" id=\"sk-estimator-id-5\" type=\"checkbox\" ><label for=\"sk-estimator-id-5\" class=\"sk-toggleable__label sk-toggleable__label-arrow\">StandardScaler</label><div class=\"sk-toggleable__content\"><pre>StandardScaler()</pre></div></div></div></div></div></div></div></div><div class=\"sk-parallel-item\"><div class=\"sk-item\"><div class=\"sk-label-container\"><div class=\"sk-label sk-toggleable\"><input class=\"sk-toggleable__control sk-hidden--visually\" id=\"sk-estimator-id-6\" type=\"checkbox\" ><label for=\"sk-estimator-id-6\" class=\"sk-toggleable__label sk-toggleable__label-arrow\">cat</label><div class=\"sk-toggleable__content\"><pre>Index([&#x27;age_group&#x27;, &#x27;census_msa&#x27;, &#x27;education&#x27;, &#x27;employment_industry&#x27;,\n",
              "       &#x27;employment_occupation&#x27;, &#x27;employment_status&#x27;, &#x27;hhs_geo_region&#x27;,\n",
              "       &#x27;income_poverty&#x27;, &#x27;marital_status&#x27;, &#x27;race&#x27;, &#x27;rent_or_own&#x27;, &#x27;sex&#x27;],\n",
              "      dtype=&#x27;object&#x27;)</pre></div></div></div><div class=\"sk-serial\"><div class=\"sk-item\"><div class=\"sk-serial\"><div class=\"sk-item\"><div class=\"sk-estimator sk-toggleable\"><input class=\"sk-toggleable__control sk-hidden--visually\" id=\"sk-estimator-id-7\" type=\"checkbox\" ><label for=\"sk-estimator-id-7\" class=\"sk-toggleable__label sk-toggleable__label-arrow\">SimpleImputer</label><div class=\"sk-toggleable__content\"><pre>SimpleImputer(strategy=&#x27;most_frequent&#x27;)</pre></div></div></div><div class=\"sk-item\"><div class=\"sk-estimator sk-toggleable\"><input class=\"sk-toggleable__control sk-hidden--visually\" id=\"sk-estimator-id-8\" type=\"checkbox\" ><label for=\"sk-estimator-id-8\" class=\"sk-toggleable__label sk-toggleable__label-arrow\">OneHotEncoder</label><div class=\"sk-toggleable__content\"><pre>OneHotEncoder(handle_unknown=&#x27;ignore&#x27;)</pre></div></div></div></div></div></div></div></div></div></div><div class=\"sk-item sk-dashed-wrapped\"><div class=\"sk-label-container\"><div class=\"sk-label sk-toggleable\"><input class=\"sk-toggleable__control sk-hidden--visually\" id=\"sk-estimator-id-9\" type=\"checkbox\" ><label for=\"sk-estimator-id-9\" class=\"sk-toggleable__label sk-toggleable__label-arrow\">classifier: MultiOutputClassifier</label><div class=\"sk-toggleable__content\"><pre>MultiOutputClassifier(estimator=RandomForestClassifier(random_state=42))</pre></div></div></div><div class=\"sk-parallel\"><div class=\"sk-parallel-item\"><div class=\"sk-item\"><div class=\"sk-label-container\"><div class=\"sk-label sk-toggleable\"><input class=\"sk-toggleable__control sk-hidden--visually\" id=\"sk-estimator-id-10\" type=\"checkbox\" ><label for=\"sk-estimator-id-10\" class=\"sk-toggleable__label sk-toggleable__label-arrow\">estimator: RandomForestClassifier</label><div class=\"sk-toggleable__content\"><pre>RandomForestClassifier(random_state=42)</pre></div></div></div><div class=\"sk-serial\"><div class=\"sk-item\"><div class=\"sk-estimator sk-toggleable\"><input class=\"sk-toggleable__control sk-hidden--visually\" id=\"sk-estimator-id-11\" type=\"checkbox\" ><label for=\"sk-estimator-id-11\" class=\"sk-toggleable__label sk-toggleable__label-arrow\">RandomForestClassifier</label><div class=\"sk-toggleable__content\"><pre>RandomForestClassifier(random_state=42)</pre></div></div></div></div></div></div></div></div></div></div></div></div>"
            ]
          },
          "metadata": {},
          "execution_count": 3
        }
      ],
      "source": [
        "from sklearn.ensemble import RandomForestClassifier\n",
        "from sklearn.multioutput import MultiOutputClassifier\n",
        "\n",
        "# Define the model pipeline\n",
        "model = Pipeline(steps=[\n",
        "    ('preprocessor', preprocessor),\n",
        "    ('classifier', MultiOutputClassifier(RandomForestClassifier(random_state=42)))])\n",
        "\n",
        "# Train the model\n",
        "model.fit(X_train, y_train)\n"
      ]
    },
    {
      "cell_type": "code",
      "execution_count": 5,
      "metadata": {
        "id": "mO0A5YeQhaHX",
        "colab": {
          "base_uri": "https://localhost:8080/"
        },
        "outputId": "4f601f17-4c9c-4ea0-f7f0-678d1aa36ab8"
      },
      "outputs": [
        {
          "output_type": "stream",
          "name": "stdout",
          "text": [
            "ROC AUC for xyz_vaccine: 0.8285037838132167\n",
            "ROC AUC for seasonal_vaccine: 0.8480600364581103\n",
            "Mean ROC AUC: 0.8382819101356636\n"
          ]
        }
      ],
      "source": [
        "from sklearn.metrics import roc_auc_score\n",
        "import numpy as np\n",
        "# Predict probabilities on the validation set\n",
        "y_pred_proba = model.predict_proba(X_val)\n",
        "y_pred_proba = np.hstack([y_pred_proba[i][:, 1].reshape(-1, 1) for i in range(len(target_cols))])\n",
        "\n",
        "# Calculate ROC AUC scores\n",
        "roc_auc_xyz = roc_auc_score(y_val['xyz_vaccine'], y_pred_proba[:, 0])\n",
        "roc_auc_seasonal = roc_auc_score(y_val['seasonal_vaccine'], y_pred_proba[:, 1])\n",
        "mean_roc_auc = np.mean([roc_auc_xyz, roc_auc_seasonal])\n",
        "\n",
        "print(f'ROC AUC for xyz_vaccine: {roc_auc_xyz}')\n",
        "print(f'ROC AUC for seasonal_vaccine: {roc_auc_seasonal}')\n",
        "print(f'Mean ROC AUC: {mean_roc_auc}')\n"
      ]
    },
    {
      "cell_type": "code",
      "execution_count": 6,
      "metadata": {
        "id": "13ytG5mghSb3"
      },
      "outputs": [],
      "source": [
        "# Predict probabilities on the test set\n",
        "X_test = test_features[feature_cols]\n",
        "y_test_pred_proba = model.predict_proba(X_test)\n",
        "y_test_pred_proba = np.hstack([y_test_pred_proba[i][:, 1].reshape(-1, 1) for i in range(len(target_cols))])\n",
        "\n"
      ]
    },
    {
      "cell_type": "code",
      "execution_count": 7,
      "metadata": {
        "id": "hBY9Tk9zhbbI"
      },
      "outputs": [],
      "source": [
        "# Prepare the submission\n",
        "submission = pd.DataFrame({\n",
        "    'respondent_id': test_features['respondent_id'],\n",
        "    'xyz_vaccine': y_test_pred_proba[:, 0],\n",
        "    'seasonal_vaccine': y_test_pred_proba[:, 1]\n",
        "})\n",
        "\n",
        "submission.to_csv('submission.csv', index=False)\n"
      ]
    },
    {
      "cell_type": "code",
      "execution_count": null,
      "metadata": {
        "id": "LtgSc2EJhpc_"
      },
      "outputs": [],
      "source": []
    }
  ],
  "metadata": {
    "colab": {
      "provenance": []
    },
    "kernelspec": {
      "display_name": "Python 3",
      "name": "python3"
    },
    "language_info": {
      "name": "python"
    }
  },
  "nbformat": 4,
  "nbformat_minor": 0
}